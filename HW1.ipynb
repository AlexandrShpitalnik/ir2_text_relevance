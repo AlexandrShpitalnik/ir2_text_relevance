{
 "cells": [
  {
   "cell_type": "code",
   "execution_count": null,
   "metadata": {},
   "outputs": [],
   "source": [
    "from parser import IR_Extractor"
   ]
  },
  {
   "cell_type": "code",
   "execution_count": null,
   "metadata": {},
   "outputs": [],
   "source": [
    "extr = IR_Extractor('content/20190128')"
   ]
  },
  {
   "cell_type": "code",
   "execution_count": null,
   "metadata": {},
   "outputs": [],
   "source": [
    "extr.set_name('parsed_bs/dmp70k-end.pickle')\n",
    "extr.main_func(70000,74258, 'BS')\n",
    "\n",
    "for i in range(14):\n",
    "    start = i*5\n",
    "    end = (i+1)*5\n",
    "    name = 'dmp'+str(start)+'k-'+str(end)+'k.pickle'\n",
    "    \n",
    "    extr.set_name('parsed_bs/' + name)\n",
    "    extr.main_func(start*1000, end*1000, 'BS')\n",
    "\n",
    "    \n",
    "extr.set_name('parsed_bp/dmp70k-end.pickle')\n",
    "extr.main_func(70000,74258, 'BP')\n",
    "\n",
    "for i in range(14):\n",
    "    start = i*5\n",
    "    end = (i+1)*5\n",
    "    name = 'dmp'+str(start)+'k-'+str(end)+'k.pickle'\n",
    "    \n",
    "    extr.set_name('parsed_bp/' + name)\n",
    "    extr.main_func(start*1000, end*1000, 'BP')\n",
    "  "
   ]
  },
  {
   "cell_type": "code",
   "execution_count": null,
   "metadata": {},
   "outputs": [],
   "source": [
    "from rank import DB, CF_counter, Yandex_CF, IR_rank"
   ]
  },
  {
   "cell_type": "code",
   "execution_count": null,
   "metadata": {},
   "outputs": [],
   "source": [
    "counter = CF_counter('parsed_bs')\n",
    "lems_number = counter.count()"
   ]
  },
  {
   "cell_type": "code",
   "execution_count": null,
   "metadata": {},
   "outputs": [],
   "source": [
    "#lems_number = 121873290.0"
   ]
  },
  {
   "cell_type": "code",
   "execution_count": null,
   "metadata": {},
   "outputs": [],
   "source": [
    "db = DB('parsed_bs', 'parsed', 'url_file.pickle')"
   ]
  },
  {
   "cell_type": "code",
   "execution_count": null,
   "metadata": {},
   "outputs": [],
   "source": [
    "algoritm = Yandex_CF(single_koef = 1.0, pair_koef = 0.035, all_koef = 0.2, phrase_koef = 0.1, \n",
    "                    titles_koef =4.0,title_one = 1.0, title_pair =0.07, title_all = 0.2, title_phrase = 0.1,\n",
    "                    start_koef = 1.0, start_single=1.0, start_pair = 0.035, start_all = 0.0, start_phrase= 0.1,\n",
    "                    dist_koef = 0.2, beta = 5.0, alpha = 8.0, n_lems = lems_number)"
   ]
  },
  {
   "cell_type": "code",
   "execution_count": null,
   "metadata": {},
   "outputs": [],
   "source": [
    "with open('sw.pickle') as f:\n",
    "    stop_words = pickle.load(f)"
   ]
  },
  {
   "cell_type": "code",
   "execution_count": null,
   "metadata": {},
   "outputs": [],
   "source": [
    "rank = IR_rank(algoritm, db, stop_words)\n",
    "rank.main()\n",
    "rank.dump('subm.csv','subm')"
   ]
  },
  {
   "cell_type": "code",
   "execution_count": null,
   "metadata": {},
   "outputs": [],
   "source": []
  },
  {
   "cell_type": "code",
   "execution_count": null,
   "metadata": {},
   "outputs": [],
   "source": []
  },
  {
   "cell_type": "code",
   "execution_count": null,
   "metadata": {},
   "outputs": [],
   "source": []
  }
 ],
 "metadata": {
  "kernelspec": {
   "display_name": "Python 2",
   "language": "python",
   "name": "python2"
  },
  "language_info": {
   "codemirror_mode": {
    "name": "ipython",
    "version": 2
   },
   "file_extension": ".py",
   "mimetype": "text/x-python",
   "name": "python",
   "nbconvert_exporter": "python",
   "pygments_lexer": "ipython2",
   "version": "2.7.14"
  }
 },
 "nbformat": 4,
 "nbformat_minor": 2
}
